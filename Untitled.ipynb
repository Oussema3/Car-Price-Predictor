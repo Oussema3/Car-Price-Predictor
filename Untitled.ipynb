{
 "cells": [
  {
   "cell_type": "code",
   "execution_count": 1,
   "id": "e9cf147b",
   "metadata": {},
   "outputs": [],
   "source": [
    "import pandas as pd "
   ]
  },
  {
   "cell_type": "code",
   "execution_count": 63,
   "id": "7a5761e6",
   "metadata": {},
   "outputs": [],
   "source": [
    "import numpy as np"
   ]
  },
  {
   "cell_type": "code",
   "execution_count": 2,
   "id": "98491f94",
   "metadata": {},
   "outputs": [],
   "source": [
    "car=pd.read_excel('SecondToLast.xlsx')"
   ]
  },
  {
   "cell_type": "code",
   "execution_count": 3,
   "id": "cfef6910",
   "metadata": {},
   "outputs": [
    {
     "data": {
      "text/html": [
       "<div>\n",
       "<style scoped>\n",
       "    .dataframe tbody tr th:only-of-type {\n",
       "        vertical-align: middle;\n",
       "    }\n",
       "\n",
       "    .dataframe tbody tr th {\n",
       "        vertical-align: top;\n",
       "    }\n",
       "\n",
       "    .dataframe thead th {\n",
       "        text-align: right;\n",
       "    }\n",
       "</style>\n",
       "<table border=\"1\" class=\"dataframe\">\n",
       "  <thead>\n",
       "    <tr style=\"text-align: right;\">\n",
       "      <th></th>\n",
       "      <th>Brand</th>\n",
       "      <th>Price</th>\n",
       "      <th>Year</th>\n",
       "      <th>Kilometrage</th>\n",
       "      <th>Energie</th>\n",
       "      <th>Boite</th>\n",
       "    </tr>\n",
       "  </thead>\n",
       "  <tbody>\n",
       "    <tr>\n",
       "      <th>0</th>\n",
       "      <td>Mercedes-Benz GLA</td>\n",
       "      <td>138500</td>\n",
       "      <td>2012</td>\n",
       "      <td>105000</td>\n",
       "      <td>Essence</td>\n",
       "      <td>Manuelle</td>\n",
       "    </tr>\n",
       "    <tr>\n",
       "      <th>1</th>\n",
       "      <td>Mercedes-Benz Classe E</td>\n",
       "      <td>227000</td>\n",
       "      <td>2015</td>\n",
       "      <td>320000</td>\n",
       "      <td>Essence</td>\n",
       "      <td>Automatique</td>\n",
       "    </tr>\n",
       "    <tr>\n",
       "      <th>2</th>\n",
       "      <td>BMW Série 5</td>\n",
       "      <td>260000</td>\n",
       "      <td>2016</td>\n",
       "      <td>78000</td>\n",
       "      <td>Essence</td>\n",
       "      <td>Manuelle</td>\n",
       "    </tr>\n",
       "    <tr>\n",
       "      <th>3</th>\n",
       "      <td>BMW Série 3</td>\n",
       "      <td>126000</td>\n",
       "      <td>2017</td>\n",
       "      <td>7000</td>\n",
       "      <td>Essence</td>\n",
       "      <td>Manuelle</td>\n",
       "    </tr>\n",
       "    <tr>\n",
       "      <th>4</th>\n",
       "      <td>BMW Série 5</td>\n",
       "      <td>117500</td>\n",
       "      <td>2012</td>\n",
       "      <td>4400</td>\n",
       "      <td>Essence</td>\n",
       "      <td>Manuelle</td>\n",
       "    </tr>\n",
       "  </tbody>\n",
       "</table>\n",
       "</div>"
      ],
      "text/plain": [
       "                    Brand   Price  Year  Kilometrage  Energie        Boite\n",
       "0       Mercedes-Benz GLA  138500  2012       105000  Essence     Manuelle\n",
       "1  Mercedes-Benz Classe E  227000  2015       320000  Essence  Automatique\n",
       "2             BMW Série 5  260000  2016        78000  Essence     Manuelle\n",
       "3             BMW Série 3  126000  2017         7000  Essence     Manuelle\n",
       "4             BMW Série 5  117500  2012         4400  Essence     Manuelle"
      ]
     },
     "execution_count": 3,
     "metadata": {},
     "output_type": "execute_result"
    }
   ],
   "source": [
    "car.head()\n"
   ]
  },
  {
   "cell_type": "code",
   "execution_count": 4,
   "id": "d4da6021",
   "metadata": {},
   "outputs": [
    {
     "data": {
      "text/plain": [
       "(2653, 6)"
      ]
     },
     "execution_count": 4,
     "metadata": {},
     "output_type": "execute_result"
    }
   ],
   "source": [
    "car.shape"
   ]
  },
  {
   "cell_type": "code",
   "execution_count": 5,
   "id": "f65fc213",
   "metadata": {},
   "outputs": [
    {
     "name": "stdout",
     "output_type": "stream",
     "text": [
      "<class 'pandas.core.frame.DataFrame'>\n",
      "RangeIndex: 2653 entries, 0 to 2652\n",
      "Data columns (total 6 columns):\n",
      " #   Column       Non-Null Count  Dtype \n",
      "---  ------       --------------  ----- \n",
      " 0   Brand        2653 non-null   object\n",
      " 1   Price        2653 non-null   int64 \n",
      " 2   Year         2653 non-null   int64 \n",
      " 3   Kilometrage  2653 non-null   int64 \n",
      " 4   Energie      2653 non-null   object\n",
      " 5   Boite        2653 non-null   object\n",
      "dtypes: int64(3), object(3)\n",
      "memory usage: 124.5+ KB\n"
     ]
    }
   ],
   "source": [
    "car.info()"
   ]
  },
  {
   "cell_type": "markdown",
   "id": "077fb8e4",
   "metadata": {},
   "source": [
    "# Issues of quality  \n",
    "- a lot of data in Price column contain the word (Dt)\n",
    "- Price column also contain a Nan objects\n",
    "- kilometrage column contain zeros\n",
    " "
   ]
  },
  {
   "cell_type": "code",
   "execution_count": 6,
   "id": "b8c2a2e3",
   "metadata": {},
   "outputs": [
    {
     "data": {
      "text/plain": [
       "array([2012, 2015, 2016, 2017, 2014, 2018, 2019, 2011, 2009, 2013, 2020,\n",
       "       2010, 2007, 2006, 2002, 2008, 1995, 1977, 2001, 1999, 2005, 2003,\n",
       "       2004, 1996, 1994, 2000, 1980, 1998, 1984, 1997, 1982, 1991, 1989,\n",
       "       1990], dtype=int64)"
      ]
     },
     "execution_count": 6,
     "metadata": {},
     "output_type": "execute_result"
    }
   ],
   "source": [
    "car['Year'].unique()"
   ]
  },
  {
   "cell_type": "code",
   "execution_count": 7,
   "id": "a49b7aa5",
   "metadata": {},
   "outputs": [
    {
     "data": {
      "text/plain": [
       "array([  138500,   227000,   260000,   126000,   117500,   175000,\n",
       "         148500,    91500,    63200,    62500,   150000,   199000,\n",
       "         320000,   193000,    70000,   125000,   110000,    83000,\n",
       "          79000,    78000,   112000,    69500,    53000,    77000,\n",
       "          82000,    60000,    67000,    33000,    43000,    62000,\n",
       "          35000,    39000,    30500,    34000,    10500,    69000,\n",
       "          23000,    28000,    57000,    26000,    65000,    59500,\n",
       "          37500,    52000,    68000,    45000,    32900,    38500,\n",
       "          54000,    26500,    35500,    55000,    48500,    34500,\n",
       "          19500,    33900,    32000,    40000,    39500,    50000,\n",
       "          25900,    33500,    36000,    47500,    30000,    49000,\n",
       "          17900,    11500,    75000,    72500,    43900,    67500,\n",
       "          69900,    73500,    22900,    98000,   140000,    73000,\n",
       "          79900,    95000,    37000,   120000,   166000,    38000,\n",
       "          72000,    92000,    74000,    43500,    66000,    99000,\n",
       "         116000,   195000,    68900,    47900,    30900,    25500,\n",
       "          23900,    32500,    49500,    18000,    56000,    18900,\n",
       "          46500,    20900,    38900,    46000,   185000,   127000,\n",
       "          24900,    28900,    44500,    44900,    65900,   147000,\n",
       "          36500,    27000,    29500,    21500,    45500,   124900,\n",
       "          40900,    68500,    51500,   135000,    58000,   129000,\n",
       "         139000,   109000,    89000,    89500,    86500,    79500,\n",
       "          63900,    50900,    44000,    64900,    27900,    42000,\n",
       "          29900,    26900,    54500,    49900,    63000,    31500,\n",
       "          47000,    28500,    36900,    37900,    31000,    24500,\n",
       "          23500,    59000,    27500,    42500,    35900,    31900,\n",
       "          18500,    41000,    21000,    12000,    66500,    64000,\n",
       "          86000,    80000,   169000,    52500,    24000,    13800,\n",
       "          76000,    48000,   190000,    81000,    25000,    53900,\n",
       "          62800,     1000,    69800,   200000,    26950,    20000,\n",
       "         103500,   105500,    74800,   103000,   124800,   128800,\n",
       "          98800,   118800,    71800,   154800,    41800,   117800,\n",
       "          63500,    58800,   131000,    52800,    92800,    56800,\n",
       "          61500,    81800,    84800,    42800,    79800,    55800,\n",
       "         160000,   460000,   100000,    16000,    51000,   340000,\n",
       "         108000,   122000,     1550,   145000,    85000,   128000,\n",
       "         265000,   248000,   168000,   118000,    48900,   132000,\n",
       "          59800,   111000,    34300,    43200,    29000,     6500,\n",
       "          22000,   124000,    60500,    13500,   136900,    47800,\n",
       "          15000,    54900,    56500,    65500,    45300,    17500,\n",
       "          27400,    53500,    23800,   130000,    58500,    87500,\n",
       "         240000,   210000,    19000,   177000,    93000,    22500,\n",
       "          24700,   101000,    42700,   223000,   170000,   420000,\n",
       "         330000,   385000,   115000,   270000,    90000,    71000,\n",
       "          41500,   189000,    22800,    21600,    38200,    20500,\n",
       "          17000,   107000,   215000,    50500,    10000,    28300,\n",
       "          87000,    11300,    33800,    45900,   143000,    84500,\n",
       "          40500,    25800,    51900,    15500,    24200,    33700,\n",
       "          61000,    39800,    59900,    39900,    29800,    41200,\n",
       "          20800,    36600,    10300,     7500,    15800,    57800,\n",
       "         136000,    34200,    19700,    57500,    24999,    30800,\n",
       "          24990,    71500,   148000,    24600,    97000,  2400000,\n",
       "         298000,    72800,    96000,    27300,   225000,    16500,\n",
       "          28800,    75500,    39700,    34900,    84000, 10000000,\n",
       "           8500,  3500000,   105000,    16200,    21400,    35600,\n",
       "          26800,    31800,    28200,    36200,    33850,    37200,\n",
       "         114000,    88000,    20980,   229000,    16900,    49600,\n",
       "          29700,    33950,    36800,   155000,     5000,    16800,\n",
       "          18800,    21900,    48800,    40600,   165000,    22200,\n",
       "          13000,    11000,     8000,    69999,    19200,   163000,\n",
       "          30200,    35800,    42300,    80500,    18200,     7000,\n",
       "          15600,    34600,    33200,    12500,    19800,    20400,\n",
       "          14000,    27600,   360000,    48700,   159000,    26850,\n",
       "           7650,    64500,    24800,    21300,    28280,    15400,\n",
       "         123456,    38700,   123000,     9800,    95200,    17200,\n",
       "         111111,    19400,    17600,    26300,    27550,    17300,\n",
       "          21200,   180000,    56789,    14500,    81500,    12345,\n",
       "           3000,   158000,    11600,   152000,    14900,    16540,\n",
       "           9500,    94000,    11800,    11200,    13200,    15250,\n",
       "          14700,    16400,    14800,    15700,    15200,    13700,\n",
       "          28700], dtype=int64)"
      ]
     },
     "execution_count": 7,
     "metadata": {},
     "output_type": "execute_result"
    }
   ],
   "source": [
    "car['Price'].unique()"
   ]
  },
  {
   "cell_type": "code",
   "execution_count": 8,
   "id": "998c1458",
   "metadata": {},
   "outputs": [
    {
     "data": {
      "text/plain": [
       "array([105000, 320000,  78000,   7000,   4400, 100000,  47000, 147000,\n",
       "       178500, 163000,  55000,  85000,  47500,  90000, 140590,   2000,\n",
       "        41791, 107000,  86136,  19979, 132611,  78697,  56242,   9327,\n",
       "       180611,   3000, 138641, 214055,  17306,  69000,  46000,  55705,\n",
       "        57999, 131329, 178857,  67976,  75299, 112000, 120000, 109000,\n",
       "       128000, 209000, 185000,   5000, 191000, 124000,  75000, 134000,\n",
       "        84000, 161000, 222000,  73000, 235000,  41000,  19000, 232000,\n",
       "       205000, 245000,  60000, 300000, 168000, 101000, 201000, 208000,\n",
       "        93000, 137000, 179000, 158000, 140000,  82000,  36000,  91000,\n",
       "        96000, 189000,  42000, 165000,   1000,  86000, 198000,  25000,\n",
       "       156000,  57000, 169000,  70000,  58000, 131000, 181000,  65000,\n",
       "        88000, 195000, 166000, 230000,  68000, 157000, 151000, 106000,\n",
       "       104000, 186000,  74000,  18000, 129000, 116000, 261000, 247000,\n",
       "       174000, 160000, 118000, 175000, 272000, 184000, 115000, 103000,\n",
       "        52000, 148000, 393000, 142000,  54000, 102000, 259000, 123000,\n",
       "       214000,  87000,  80000, 226000, 138000,  15000, 246000, 202000,\n",
       "       135000,  49000, 215000, 326000, 113000,  67000, 114000, 132000,\n",
       "        92000, 194000, 182000,  26000, 146000,  24000,  61000, 244000,\n",
       "       210000, 121000, 164000,  29000, 152000, 117000, 192000, 126000,\n",
       "       319000, 291000, 176000,  45000, 171000, 281000, 295000, 188000,\n",
       "       139000, 187000, 145000,  28000,  72000, 141000, 302000, 267000,\n",
       "        64000,  10000,  21000, 173000, 162000, 228000,  94000, 154000,\n",
       "        53000, 183000,  56000,  51000,  81000, 170000,  83000, 220000,\n",
       "       238000,  27000, 248000, 155000, 224000,  33000,  50000,  89000,\n",
       "       108000, 200000,  61900,  30000,  87500,  59000,   4000,   6400,\n",
       "         3500,     64,  62000, 250000, 110000, 258000, 190000, 166700,\n",
       "        12200,     90, 130000,  95000,   7900, 330000,  20000,  63000,\n",
       "       125000,  65500, 150000, 145560,  40000, 144000,  64200,    800,\n",
       "        98000,  32000,  60200, 149000, 251000, 180000, 240000,  26500,\n",
       "         1200,      1, 280000,  77000,   8000, 153000,   2700,  56500,\n",
       "         7700,  38000,  39000, 122000,  34000, 143000, 193000,  17000,\n",
       "       119000, 225000, 223000, 360000,  88500, 133000, 270000,  35000,\n",
       "         6000,  95500,    105, 196000,  43000, 260000,  96600,   9000,\n",
       "        98315,  34700, 305000, 296000, 168600,  63500, 127000, 167000,\n",
       "         5780, 111000,  68500,  66000, 172022, 350000, 219000, 345000,\n",
       "       400000,  16235,  16000, 135400, 285000, 168500, 163500,  59800,\n",
       "        24500, 179300, 121640,  44900, 213000,  44000, 430000,  75500,\n",
       "       136000,  48000,   1111,    104,  24200,   4580,   8600, 178000,\n",
       "       298000, 168900, 161190,  15400, 159000, 290000, 274344,  87800,\n",
       "       218000,  71000, 149500,  22000, 237000, 172300,  85800,  97800,\n",
       "        38700, 276000, 288451,  61917, 222222, 234000,  74500,  12000,\n",
       "       199000, 224500,  94834, 139750,  85495, 119371,  99000, 172000,\n",
       "        28500,  21500,  16200,  63554, 229000, 132332, 268000,  28100,\n",
       "        76000,  61500, 177000, 211000, 350009,  57481, 117500, 147500,\n",
       "       640000,  37200, 440000, 212000,  33700,  23000,  12500,  37000,\n",
       "        21717,    120,  73481,  70200, 311000,  31000,     55,   2200,\n",
       "        51592, 177300, 273000, 239369,  63350, 340000, 207000, 104890,\n",
       "       271000, 280284,  70500,  21700,  93200,  78450,  92300,  66400,\n",
       "        83400,   2500, 138800,    100,   1900, 999999,  48300,  64500,\n",
       "       282900,   5800,    121, 206000, 410000,  68800,   5400, 252000,\n",
       "           56, 243000,  14558, 116236, 203000, 151527,  64300, 227000,\n",
       "       197000,  26600,   6800,  94500, 480000, 171300,  27500,  11000,\n",
       "        72500, 287000,  40956,  14800,    147, 325000, 257000, 450000,\n",
       "       185900,  20100, 146577, 108800, 470000,    130,   8500, 100500,\n",
       "       254000, 266200,  82902,    636, 255000, 386000,  99100, 372000,\n",
       "       249666,  99617,   6500,     72,  18094,  16300,  26650,  22500,\n",
       "       121900,   4100, 110647,  46500,  77653,  66148, 112922,  93300,\n",
       "       269000, 136200,  82572,  23500,  20500,  99999,   3103, 288888,\n",
       "        83928, 384000,   6100,  77819, 212317,     50,     28,  79000,\n",
       "         9300,  97000,  15500, 221128, 190540, 105270,  31500,  62500,\n",
       "       164600, 348000,  14000, 170600,  43500,  78200, 331000,  14750,\n",
       "          112,  90674, 219500, 262000, 187600, 277000,  10700, 126500,\n",
       "       113950,  98500,     25, 113789,  89300, 102883, 317000,  63800,\n",
       "       310000, 122800, 149480, 451345,   1540,  37500,  73770, 880000,\n",
       "       239000, 117800, 308000, 380000,   1990, 145500,     87,  22800,\n",
       "       217000,  86727, 194122,  36400,  78500,    107, 204000,  13850,\n",
       "        49500,  13000, 174112, 100002, 153660,  58800, 221495,  34550,\n",
       "       370000,    280,    295, 500000, 342000,  98765,     80, 322000,\n",
       "        16500,  81325, 101800, 174500, 173650,  10900, 234589, 313000,\n",
       "       312000, 233000,  86500,  56400, 292000, 265000, 390000, 314000,\n",
       "       275000, 336000], dtype=int64)"
      ]
     },
     "execution_count": 8,
     "metadata": {},
     "output_type": "execute_result"
    }
   ],
   "source": [
    "car['Kilometrage'].unique()"
   ]
  },
  {
   "cell_type": "code",
   "execution_count": 9,
   "id": "f65d1503",
   "metadata": {},
   "outputs": [
    {
     "data": {
      "text/plain": [
       "array(['Essence', 'Diesel'], dtype=object)"
      ]
     },
     "execution_count": 9,
     "metadata": {},
     "output_type": "execute_result"
    }
   ],
   "source": [
    "car['Energie'].unique()"
   ]
  },
  {
   "cell_type": "code",
   "execution_count": 10,
   "id": "e956bc97",
   "metadata": {},
   "outputs": [
    {
     "data": {
      "text/plain": [
       "array(['Manuelle', 'Automatique'], dtype=object)"
      ]
     },
     "execution_count": 10,
     "metadata": {},
     "output_type": "execute_result"
    }
   ],
   "source": [
    "car['Boite'].unique()"
   ]
  },
  {
   "cell_type": "markdown",
   "id": "63e6a38b",
   "metadata": {},
   "source": [
    "# Cleaning"
   ]
  },
  {
   "cell_type": "code",
   "execution_count": 11,
   "id": "1891e7f9",
   "metadata": {},
   "outputs": [],
   "source": [
    "backup=car.copy"
   ]
  },
  {
   "cell_type": "code",
   "execution_count": 12,
   "id": "4dba8495",
   "metadata": {},
   "outputs": [
    {
     "data": {
      "text/plain": [
       "0       2012\n",
       "1       2015\n",
       "2       2016\n",
       "3       2017\n",
       "4       2012\n",
       "        ... \n",
       "2648    2018\n",
       "2649    2012\n",
       "2650    2018\n",
       "2651    2015\n",
       "2652    2017\n",
       "Name: Year, Length: 2653, dtype: int64"
      ]
     },
     "execution_count": 12,
     "metadata": {},
     "output_type": "execute_result"
    }
   ],
   "source": [
    "car['Year']"
   ]
  },
  {
   "cell_type": "code",
   "execution_count": 13,
   "id": "6ba12db4",
   "metadata": {},
   "outputs": [
    {
     "name": "stdout",
     "output_type": "stream",
     "text": [
      "<class 'pandas.core.frame.DataFrame'>\n",
      "RangeIndex: 2653 entries, 0 to 2652\n",
      "Data columns (total 6 columns):\n",
      " #   Column       Non-Null Count  Dtype \n",
      "---  ------       --------------  ----- \n",
      " 0   Brand        2653 non-null   object\n",
      " 1   Price        2653 non-null   int64 \n",
      " 2   Year         2653 non-null   int64 \n",
      " 3   Kilometrage  2653 non-null   int64 \n",
      " 4   Energie      2653 non-null   object\n",
      " 5   Boite        2653 non-null   object\n",
      "dtypes: int64(3), object(3)\n",
      "memory usage: 124.5+ KB\n"
     ]
    }
   ],
   "source": [
    "car.info()"
   ]
  },
  {
   "cell_type": "code",
   "execution_count": 14,
   "id": "6d4a9349",
   "metadata": {},
   "outputs": [],
   "source": [
    "car=car.reset_index(drop=True)"
   ]
  },
  {
   "cell_type": "code",
   "execution_count": 15,
   "id": "5eba81d1",
   "metadata": {},
   "outputs": [
    {
     "data": {
      "text/html": [
       "<div>\n",
       "<style scoped>\n",
       "    .dataframe tbody tr th:only-of-type {\n",
       "        vertical-align: middle;\n",
       "    }\n",
       "\n",
       "    .dataframe tbody tr th {\n",
       "        vertical-align: top;\n",
       "    }\n",
       "\n",
       "    .dataframe thead th {\n",
       "        text-align: right;\n",
       "    }\n",
       "</style>\n",
       "<table border=\"1\" class=\"dataframe\">\n",
       "  <thead>\n",
       "    <tr style=\"text-align: right;\">\n",
       "      <th></th>\n",
       "      <th>Brand</th>\n",
       "      <th>Price</th>\n",
       "      <th>Year</th>\n",
       "      <th>Kilometrage</th>\n",
       "      <th>Energie</th>\n",
       "      <th>Boite</th>\n",
       "    </tr>\n",
       "  </thead>\n",
       "  <tbody>\n",
       "    <tr>\n",
       "      <th>0</th>\n",
       "      <td>Mercedes-Benz GLA</td>\n",
       "      <td>138500</td>\n",
       "      <td>2012</td>\n",
       "      <td>105000</td>\n",
       "      <td>Essence</td>\n",
       "      <td>Manuelle</td>\n",
       "    </tr>\n",
       "    <tr>\n",
       "      <th>1</th>\n",
       "      <td>Mercedes-Benz Classe E</td>\n",
       "      <td>227000</td>\n",
       "      <td>2015</td>\n",
       "      <td>320000</td>\n",
       "      <td>Essence</td>\n",
       "      <td>Automatique</td>\n",
       "    </tr>\n",
       "    <tr>\n",
       "      <th>2</th>\n",
       "      <td>BMW Série 5</td>\n",
       "      <td>260000</td>\n",
       "      <td>2016</td>\n",
       "      <td>78000</td>\n",
       "      <td>Essence</td>\n",
       "      <td>Manuelle</td>\n",
       "    </tr>\n",
       "    <tr>\n",
       "      <th>3</th>\n",
       "      <td>BMW Série 3</td>\n",
       "      <td>126000</td>\n",
       "      <td>2017</td>\n",
       "      <td>7000</td>\n",
       "      <td>Essence</td>\n",
       "      <td>Manuelle</td>\n",
       "    </tr>\n",
       "    <tr>\n",
       "      <th>4</th>\n",
       "      <td>BMW Série 5</td>\n",
       "      <td>117500</td>\n",
       "      <td>2012</td>\n",
       "      <td>4400</td>\n",
       "      <td>Essence</td>\n",
       "      <td>Manuelle</td>\n",
       "    </tr>\n",
       "    <tr>\n",
       "      <th>...</th>\n",
       "      <td>...</td>\n",
       "      <td>...</td>\n",
       "      <td>...</td>\n",
       "      <td>...</td>\n",
       "      <td>...</td>\n",
       "      <td>...</td>\n",
       "    </tr>\n",
       "    <tr>\n",
       "      <th>2648</th>\n",
       "      <td>Renault Symbole</td>\n",
       "      <td>35000</td>\n",
       "      <td>2018</td>\n",
       "      <td>26000</td>\n",
       "      <td>Essence</td>\n",
       "      <td>Manuelle</td>\n",
       "    </tr>\n",
       "    <tr>\n",
       "      <th>2649</th>\n",
       "      <td>Renault Symbole</td>\n",
       "      <td>21500</td>\n",
       "      <td>2012</td>\n",
       "      <td>176000</td>\n",
       "      <td>Essence</td>\n",
       "      <td>Manuelle</td>\n",
       "    </tr>\n",
       "    <tr>\n",
       "      <th>2650</th>\n",
       "      <td>Renault Symbole</td>\n",
       "      <td>32500</td>\n",
       "      <td>2018</td>\n",
       "      <td>62000</td>\n",
       "      <td>Essence</td>\n",
       "      <td>Manuelle</td>\n",
       "    </tr>\n",
       "    <tr>\n",
       "      <th>2651</th>\n",
       "      <td>Renault Symbole</td>\n",
       "      <td>24000</td>\n",
       "      <td>2015</td>\n",
       "      <td>170000</td>\n",
       "      <td>Essence</td>\n",
       "      <td>Manuelle</td>\n",
       "    </tr>\n",
       "    <tr>\n",
       "      <th>2652</th>\n",
       "      <td>Renault Symbole</td>\n",
       "      <td>27000</td>\n",
       "      <td>2017</td>\n",
       "      <td>80000</td>\n",
       "      <td>Essence</td>\n",
       "      <td>Manuelle</td>\n",
       "    </tr>\n",
       "  </tbody>\n",
       "</table>\n",
       "<p>2653 rows × 6 columns</p>\n",
       "</div>"
      ],
      "text/plain": [
       "                       Brand   Price  Year  Kilometrage  Energie        Boite\n",
       "0          Mercedes-Benz GLA  138500  2012       105000  Essence     Manuelle\n",
       "1     Mercedes-Benz Classe E  227000  2015       320000  Essence  Automatique\n",
       "2                BMW Série 5  260000  2016        78000  Essence     Manuelle\n",
       "3                BMW Série 3  126000  2017         7000  Essence     Manuelle\n",
       "4                BMW Série 5  117500  2012         4400  Essence     Manuelle\n",
       "...                      ...     ...   ...          ...      ...          ...\n",
       "2648         Renault Symbole   35000  2018        26000  Essence     Manuelle\n",
       "2649         Renault Symbole   21500  2012       176000  Essence     Manuelle\n",
       "2650         Renault Symbole   32500  2018        62000  Essence     Manuelle\n",
       "2651         Renault Symbole   24000  2015       170000  Essence     Manuelle\n",
       "2652         Renault Symbole   27000  2017        80000  Essence     Manuelle\n",
       "\n",
       "[2653 rows x 6 columns]"
      ]
     },
     "execution_count": 15,
     "metadata": {},
     "output_type": "execute_result"
    }
   ],
   "source": [
    "car\n"
   ]
  },
  {
   "cell_type": "code",
   "execution_count": null,
   "id": "25bdb038",
   "metadata": {},
   "outputs": [],
   "source": []
  },
  {
   "cell_type": "markdown",
   "id": "e23cd3c6",
   "metadata": {},
   "source": [
    "# Model"
   ]
  },
  {
   "cell_type": "code",
   "execution_count": 17,
   "id": "7971b3df",
   "metadata": {},
   "outputs": [],
   "source": [
    "X=car.drop(columns='Price')\n",
    "y=car['Price']"
   ]
  },
  {
   "cell_type": "code",
   "execution_count": 18,
   "id": "f602c292",
   "metadata": {},
   "outputs": [
    {
     "data": {
      "text/html": [
       "<div>\n",
       "<style scoped>\n",
       "    .dataframe tbody tr th:only-of-type {\n",
       "        vertical-align: middle;\n",
       "    }\n",
       "\n",
       "    .dataframe tbody tr th {\n",
       "        vertical-align: top;\n",
       "    }\n",
       "\n",
       "    .dataframe thead th {\n",
       "        text-align: right;\n",
       "    }\n",
       "</style>\n",
       "<table border=\"1\" class=\"dataframe\">\n",
       "  <thead>\n",
       "    <tr style=\"text-align: right;\">\n",
       "      <th></th>\n",
       "      <th>Brand</th>\n",
       "      <th>Year</th>\n",
       "      <th>Kilometrage</th>\n",
       "      <th>Energie</th>\n",
       "      <th>Boite</th>\n",
       "    </tr>\n",
       "  </thead>\n",
       "  <tbody>\n",
       "    <tr>\n",
       "      <th>0</th>\n",
       "      <td>Mercedes-Benz GLA</td>\n",
       "      <td>2012</td>\n",
       "      <td>105000</td>\n",
       "      <td>Essence</td>\n",
       "      <td>Manuelle</td>\n",
       "    </tr>\n",
       "    <tr>\n",
       "      <th>1</th>\n",
       "      <td>Mercedes-Benz Classe E</td>\n",
       "      <td>2015</td>\n",
       "      <td>320000</td>\n",
       "      <td>Essence</td>\n",
       "      <td>Automatique</td>\n",
       "    </tr>\n",
       "    <tr>\n",
       "      <th>2</th>\n",
       "      <td>BMW Série 5</td>\n",
       "      <td>2016</td>\n",
       "      <td>78000</td>\n",
       "      <td>Essence</td>\n",
       "      <td>Manuelle</td>\n",
       "    </tr>\n",
       "    <tr>\n",
       "      <th>3</th>\n",
       "      <td>BMW Série 3</td>\n",
       "      <td>2017</td>\n",
       "      <td>7000</td>\n",
       "      <td>Essence</td>\n",
       "      <td>Manuelle</td>\n",
       "    </tr>\n",
       "    <tr>\n",
       "      <th>4</th>\n",
       "      <td>BMW Série 5</td>\n",
       "      <td>2012</td>\n",
       "      <td>4400</td>\n",
       "      <td>Essence</td>\n",
       "      <td>Manuelle</td>\n",
       "    </tr>\n",
       "    <tr>\n",
       "      <th>...</th>\n",
       "      <td>...</td>\n",
       "      <td>...</td>\n",
       "      <td>...</td>\n",
       "      <td>...</td>\n",
       "      <td>...</td>\n",
       "    </tr>\n",
       "    <tr>\n",
       "      <th>2648</th>\n",
       "      <td>Renault Symbole</td>\n",
       "      <td>2018</td>\n",
       "      <td>26000</td>\n",
       "      <td>Essence</td>\n",
       "      <td>Manuelle</td>\n",
       "    </tr>\n",
       "    <tr>\n",
       "      <th>2649</th>\n",
       "      <td>Renault Symbole</td>\n",
       "      <td>2012</td>\n",
       "      <td>176000</td>\n",
       "      <td>Essence</td>\n",
       "      <td>Manuelle</td>\n",
       "    </tr>\n",
       "    <tr>\n",
       "      <th>2650</th>\n",
       "      <td>Renault Symbole</td>\n",
       "      <td>2018</td>\n",
       "      <td>62000</td>\n",
       "      <td>Essence</td>\n",
       "      <td>Manuelle</td>\n",
       "    </tr>\n",
       "    <tr>\n",
       "      <th>2651</th>\n",
       "      <td>Renault Symbole</td>\n",
       "      <td>2015</td>\n",
       "      <td>170000</td>\n",
       "      <td>Essence</td>\n",
       "      <td>Manuelle</td>\n",
       "    </tr>\n",
       "    <tr>\n",
       "      <th>2652</th>\n",
       "      <td>Renault Symbole</td>\n",
       "      <td>2017</td>\n",
       "      <td>80000</td>\n",
       "      <td>Essence</td>\n",
       "      <td>Manuelle</td>\n",
       "    </tr>\n",
       "  </tbody>\n",
       "</table>\n",
       "<p>2653 rows × 5 columns</p>\n",
       "</div>"
      ],
      "text/plain": [
       "                       Brand  Year  Kilometrage  Energie        Boite\n",
       "0          Mercedes-Benz GLA  2012       105000  Essence     Manuelle\n",
       "1     Mercedes-Benz Classe E  2015       320000  Essence  Automatique\n",
       "2                BMW Série 5  2016        78000  Essence     Manuelle\n",
       "3                BMW Série 3  2017         7000  Essence     Manuelle\n",
       "4                BMW Série 5  2012         4400  Essence     Manuelle\n",
       "...                      ...   ...          ...      ...          ...\n",
       "2648         Renault Symbole  2018        26000  Essence     Manuelle\n",
       "2649         Renault Symbole  2012       176000  Essence     Manuelle\n",
       "2650         Renault Symbole  2018        62000  Essence     Manuelle\n",
       "2651         Renault Symbole  2015       170000  Essence     Manuelle\n",
       "2652         Renault Symbole  2017        80000  Essence     Manuelle\n",
       "\n",
       "[2653 rows x 5 columns]"
      ]
     },
     "execution_count": 18,
     "metadata": {},
     "output_type": "execute_result"
    }
   ],
   "source": [
    "X\n"
   ]
  },
  {
   "cell_type": "code",
   "execution_count": 19,
   "id": "ac1c1c3f",
   "metadata": {},
   "outputs": [
    {
     "data": {
      "text/plain": [
       "0       138500\n",
       "1       227000\n",
       "2       260000\n",
       "3       126000\n",
       "4       117500\n",
       "         ...  \n",
       "2648     35000\n",
       "2649     21500\n",
       "2650     32500\n",
       "2651     24000\n",
       "2652     27000\n",
       "Name: Price, Length: 2653, dtype: int64"
      ]
     },
     "execution_count": 19,
     "metadata": {},
     "output_type": "execute_result"
    }
   ],
   "source": [
    "y"
   ]
  },
  {
   "cell_type": "code",
   "execution_count": 41,
   "id": "27d0b753",
   "metadata": {},
   "outputs": [],
   "source": [
    "from sklearn.model_selection import train_test_split\n",
    "X_train, X_test,y_train, y_test=train_test_split(X,y,test_size=0.2)"
   ]
  },
  {
   "cell_type": "code",
   "execution_count": 42,
   "id": "7f6260d4",
   "metadata": {},
   "outputs": [],
   "source": [
    "from sklearn.linear_model import LinearRegression\n",
    "from sklearn.metrics import r2_score\n",
    "from sklearn.preprocessing import OneHotEncoder \n",
    "from sklearn.compose import make_column_transformer\n",
    "from sklearn.pipeline import make_pipeline"
   ]
  },
  {
   "cell_type": "code",
   "execution_count": 43,
   "id": "644abc2f",
   "metadata": {},
   "outputs": [
    {
     "data": {
      "text/plain": [
       "OneHotEncoder()"
      ]
     },
     "execution_count": 43,
     "metadata": {},
     "output_type": "execute_result"
    }
   ],
   "source": [
    "ohe = OneHotEncoder()\n",
    "ohe.fit(X[['Brand','Energie','Boite']])"
   ]
  },
  {
   "cell_type": "code",
   "execution_count": 50,
   "id": "4054ed2f",
   "metadata": {},
   "outputs": [
    {
     "data": {
      "text/plain": [
       "[array(['Acura MDX', 'Alfa Romeo 147', 'Alfa Romeo Giulietta',\n",
       "        'Alfa Romeo Mito', 'Audi A1', 'Audi A1 Sportback', 'Audi A3',\n",
       "        'Audi A3 Berline', 'Audi A3 Sportback', 'Audi A4', 'Audi A5 Coupé',\n",
       "        'Audi A5 Sportback', 'Audi A6', 'Audi Q2', 'Audi Q3', 'Audi Q5',\n",
       "        'Audi Q7', 'Audi S5', 'Audi SQ5', 'BAIC YX Kenbo S2',\n",
       "        'BAIC YX Kenbo S3', 'BMW Autre', 'BMW M3', 'BMW M5', 'BMW Série 1',\n",
       "        'BMW Série 3', 'BMW Série 3 cabriolet', 'BMW Série 3 coupé',\n",
       "        'BMW Série 4 Coupé', 'BMW Série 4 Gran Coupé', 'BMW Série 5',\n",
       "        'BMW Série 6', 'BMW Série 7', 'BMW X1', 'BMW X2', 'BMW X3',\n",
       "        'BMW X5', 'BMW X6', 'Cadillac Escalade', 'Chery Arrizo 5',\n",
       "        'Chery E3', 'Chery QQ', 'Chery Tiggo 2', 'Chevrolet Aveo',\n",
       "        'Chevrolet Cruze', 'Chevrolet Nubira', 'Chevrolet Optra',\n",
       "        'Chevrolet Spark', 'Chevrolet Trans Sport', 'Chevrolet Venture',\n",
       "        'Citroën 2 CV', 'Citroën AX', 'Citroën Autre',\n",
       "        'Citroën Berlingo First', 'Citroën Berlingo Multispace',\n",
       "        'Citroën Berlingo Utilitaire', 'Citroën C-Elysée', 'Citroën C1',\n",
       "        'Citroën C3', 'Citroën C4', 'Citroën C4 Cactus',\n",
       "        'Citroën C4 Picasso', 'Citroën C5', 'Citroën DS3', 'Citroën DS4',\n",
       "        'Citroën DS5', 'Citroën Jumper', 'Citroën Jumpy Combi',\n",
       "        'Citroën Jumpy Fourgon', 'Citroën Nemo', 'Citroën Saxo',\n",
       "        'DFSK K01', 'DS 3', 'DS 4', 'DS 4 Crossback', 'DS 5',\n",
       "        'Dacia Dokker', 'Dacia Dokker Van', 'Dacia Duster', 'Dacia Logan',\n",
       "        'Dacia Logan MCV', 'Dacia Sandero', 'Dodge Avenger', 'Dodge Nitro',\n",
       "        'Fiat 500', 'Fiat 500 Abarth', 'Fiat 500 C', 'Fiat 500L',\n",
       "        'Fiat 500X', 'Fiat Bravo', 'Fiat Doblo', 'Fiat Fiorino',\n",
       "        'Fiat Grande Punto', 'Fiat Palio', 'Fiat Panda', 'Fiat Punto',\n",
       "        'Fiat Punto Evo', 'Fiat Punto Pop', 'Fiat Qubo', 'Fiat Siena',\n",
       "        'Fiat Tipo', 'Ford C-Max', 'Ford Ecosport', 'Ford Escort',\n",
       "        'Ford Explorer', 'Ford Fiesta', 'Ford Figo', 'Ford Focus',\n",
       "        'Ford Focus berline', 'Ford Fusion', 'Ford Ka', 'Ford Kuga',\n",
       "        'Ford Mondeo', 'Ford Ranger', 'Ford Tourneo', 'Ford Transit',\n",
       "        'Great Wall H5', 'Great Wall M4', 'Haval H2', 'Haval H6',\n",
       "        'Honda Brio Amaze', 'Honda City', 'Honda HR-V', 'Hyundai Accent',\n",
       "        'Hyundai Accent 5p', 'Hyundai Autre', 'Hyundai Creta',\n",
       "        'Hyundai Elantra', 'Hyundai Galloper', 'Hyundai Grand Santa Fe',\n",
       "        'Hyundai Grand i10', 'Hyundai Grand i10 Sedan', 'Hyundai Santa Fe',\n",
       "        'Hyundai Sonata', 'Hyundai Tucson', 'Hyundai Veloster',\n",
       "        'Hyundai i10', 'Hyundai i20', 'Hyundai i30', 'Hyundai ix35',\n",
       "        'Infiniti Q45', 'Isuzu D-Max DC', 'Isuzu D-Max SC',\n",
       "        'Isuzu PICK UP', 'Iveco Daily', 'Jaguar S-Type', 'Jaguar X-Type',\n",
       "        'Jaguar XE', 'Jaguar XF', 'Jaguar XJ', 'Jeep Compass',\n",
       "        'Jeep Grand Cherokee', 'Jeep Patriot', 'Jeep Wagoneer',\n",
       "        'KIA Carens', 'KIA Cerato', 'KIA Cerato KOUP', 'KIA Optima',\n",
       "        'KIA Picanto', 'KIA Rio 5p', 'KIA Rio Berline', 'KIA Sorento',\n",
       "        'KIA Sportage', 'Kawazaki Z1000', 'Lamborghini Aventador',\n",
       "        'Lancia Ypsilon', 'Land Rover Defender', 'Land Rover Discovery',\n",
       "        'Land Rover Discovery Sport', 'Land Rover Freelander',\n",
       "        'Land Rover Range Rover', 'Land Rover Range Rover Evoque',\n",
       "        'Land Rover Range Rover Sport', 'Land Rover Range Rover Velar',\n",
       "        'MG 3', 'MG GS', 'MG GT', 'MG ZS', 'Mahindra KUV 100',\n",
       "        'Mahindra Pick-up SC', 'Mahindra Scorpio Pick-up DC',\n",
       "        'Mahindra XUV 500', 'Maybach 62', 'Mazda 2', 'Mazda 2 Sedan',\n",
       "        'Mazda 3', 'Mazda 3 sedan', 'Mazda 6', 'Mazda BT-50',\n",
       "        'Mazda BT-50 Pro', 'Mazda CX-5', 'Mazda CX-9', 'Mercedes-Benz 200',\n",
       "        'Mercedes-Benz 220', 'Mercedes-Benz 250', 'Mercedes-Benz CL',\n",
       "        'Mercedes-Benz CLA', 'Mercedes-Benz CLK', 'Mercedes-Benz CLS',\n",
       "        'Mercedes-Benz Classe A', 'Mercedes-Benz Classe B',\n",
       "        'Mercedes-Benz Classe C', 'Mercedes-Benz Classe C coupé',\n",
       "        'Mercedes-Benz Classe E', 'Mercedes-Benz Classe E coupé',\n",
       "        'Mercedes-Benz Classe S', 'Mercedes-Benz GLA', 'Mercedes-Benz ML',\n",
       "        'Mercedes-Benz SLK', 'Mini 3 portes', 'Mini 5 portes',\n",
       "        'Mini Cabriolet', 'Mini Clubman', 'Mini Cooper S',\n",
       "        'Mini Countryman', 'Mini John Cooper Works', 'Mini Paceman',\n",
       "        'Mitsubishi ASX', 'Mitsubishi Attrage',\n",
       "        'Mitsubishi L200 Double Cabine', 'Mitsubishi L200 Simple Cabine',\n",
       "        'Mitsubishi Mirage', 'Mitsubishi Pajero', 'Nissan Juke',\n",
       "        'Nissan Micra', 'Nissan Murano', 'Nissan Navara', 'Nissan Patrol',\n",
       "        'Nissan Pixo', 'Nissan Qashqai', 'Nissan Qashqai+2',\n",
       "        'Nissan Sunny', 'Nissan X-trail', 'Opel Astra', 'Opel Astra GTC',\n",
       "        'Opel Corsa', 'Opel Corsa 3p', 'Opel Insignia', 'Opel Monza',\n",
       "        'Opel Vectra', 'Opel Vivaro', 'Opel Zafira', 'Peugeot 107',\n",
       "        'Peugeot 2008', 'Peugeot 206', 'Peugeot 206 Berline',\n",
       "        'Peugeot 206+', 'Peugeot 207', 'Peugeot 208', 'Peugeot 208 3P',\n",
       "        'Peugeot 3008', 'Peugeot 301', 'Peugeot 306', 'Peugeot 308',\n",
       "        'Peugeot 308 cc', 'Peugeot 309', 'Peugeot 4008', 'Peugeot 406',\n",
       "        'Peugeot 407', 'Peugeot 508', 'Peugeot 607', 'Peugeot Bipper',\n",
       "        'Peugeot Boxer', 'Peugeot Expert', 'Peugeot Partner',\n",
       "        'Peugeot Partner Origin Utilitaire', 'Peugeot Partner Tepee',\n",
       "        'Peugeot Pickup', 'Peugeot TePee', 'Porsche Cayenne',\n",
       "        'Porsche Panamera', 'Renault Captur', 'Renault Clio',\n",
       "        'Renault Clio 3', 'Renault Clio 4', 'Renault Clio Campus',\n",
       "        'Renault Clio Classic', 'Renault Fluence', 'Renault Kadjar',\n",
       "        'Renault Laguna', 'Renault Laguna ', 'Renault Megane',\n",
       "        'Renault Megane Sedan', 'Renault Megane coupé', 'Renault R 5',\n",
       "        'Renault Symbol', 'Renault Symbole', 'Renault Trafic',\n",
       "        'Renault Twingo', 'Renault-Clio-classique', 'Seat Altea',\n",
       "        'Seat Ateca', 'Seat Exeo', 'Seat Ibiza', 'Seat Leon',\n",
       "        'Seat Leon SC', 'Seat Mii', 'Skoda Fabia', 'Skoda Rapid',\n",
       "        'Smart ForFour', 'Smart ForTwo', 'Ssangyong Actyon Sports',\n",
       "        'Ssangyong Korando', 'Ssangyong Rexton', 'Ssangyong Tivoli',\n",
       "        'Ssangyong XLV', 'Suzuki Baleno', 'Suzuki Ciaz', 'Suzuki Dzire',\n",
       "        'Suzuki Grand Vitara', 'Suzuki SX4', 'Suzuki Swift',\n",
       "        'Suzuki Vitara', 'Tata Xenon DC', 'Tata Xenon SC',\n",
       "        'Toyota 4-Runner', 'Toyota Avanza', 'Toyota C-HR',\n",
       "        'Toyota Corolla', 'Toyota Corolla Sedan', 'Toyota GT86',\n",
       "        'Toyota Hiace', 'Toyota Hilux', 'Toyota Land Cruiser',\n",
       "        'Toyota Prado', 'Toyota RAV 4', 'Toyota Yaris',\n",
       "        'Toyota Yaris Sedan', 'Volkswagen Amarok', 'Volkswagen CC',\n",
       "        'Volkswagen Caddy', 'Volkswagen Crafter', 'Volkswagen Eos',\n",
       "        'Volkswagen Golf 1', 'Volkswagen Golf 3', 'Volkswagen Golf 4',\n",
       "        'Volkswagen Golf 5', 'Volkswagen Golf 6', 'Volkswagen Golf 7',\n",
       "        'Volkswagen Golf Cabriolet', 'Volkswagen Jetta',\n",
       "        'Volkswagen Multivan', 'Volkswagen New Beetle',\n",
       "        'Volkswagen Passat', 'Volkswagen Passat CC', 'Volkswagen Polo',\n",
       "        'Volkswagen Polo Sedan', 'Volkswagen Scirocco', 'Volkswagen T5',\n",
       "        'Volkswagen Tiguan', 'Volkswagen Touareg', 'Volkswagen Touran',\n",
       "        'Volkswagen Transporter', 'Volvo 440', 'Volvo C30', 'Volvo S40',\n",
       "        'Volvo S60', 'Volvo S80', 'Volvo V40', 'Volvo XC60',\n",
       "        'Wallyscar Izis'], dtype=object),\n",
       " array(['Diesel', 'Essence'], dtype=object),\n",
       " array(['Automatique', 'Manuelle'], dtype=object)]"
      ]
     },
     "execution_count": 50,
     "metadata": {},
     "output_type": "execute_result"
    }
   ],
   "source": [
    "ohe.categories_"
   ]
  },
  {
   "cell_type": "code",
   "execution_count": 51,
   "id": "b198f780",
   "metadata": {},
   "outputs": [],
   "source": [
    "column_trans = make_column_transformer((OneHotEncoder(categories=ohe.categories_),['Brand','Energie','Boite']),remainder='passthrough')"
   ]
  },
  {
   "cell_type": "code",
   "execution_count": 52,
   "id": "9f87aa80",
   "metadata": {},
   "outputs": [],
   "source": [
    "lr=LinearRegression()"
   ]
  },
  {
   "cell_type": "code",
   "execution_count": 53,
   "id": "c3a20022",
   "metadata": {},
   "outputs": [],
   "source": [
    "pipe=make_pipeline(column_trans,lr)"
   ]
  },
  {
   "cell_type": "code",
   "execution_count": 54,
   "id": "03293a42",
   "metadata": {},
   "outputs": [
    {
     "data": {
      "text/plain": [
       "Pipeline(steps=[('columntransformer',\n",
       "                 ColumnTransformer(remainder='passthrough',\n",
       "                                   transformers=[('onehotencoder',\n",
       "                                                  OneHotEncoder(categories=[array(['Acura MDX', 'Alfa Romeo 147', 'Alfa Romeo Giulietta',\n",
       "       'Alfa Romeo Mito', 'Audi A1', 'Audi A1 Sportback', 'Audi A3',\n",
       "       'Audi A3 Berline', 'Audi A3 Sportback', 'Audi A4', 'Audi A5 Coupé',\n",
       "       'Audi A5 Sportback', 'Audi A6', 'Audi Q2', 'Audi Q3', 'Audi Q...\n",
       "       'Volkswagen Tiguan', 'Volkswagen Touareg', 'Volkswagen Touran',\n",
       "       'Volkswagen Transporter', 'Volvo 440', 'Volvo C30', 'Volvo S40',\n",
       "       'Volvo S60', 'Volvo S80', 'Volvo V40', 'Volvo XC60',\n",
       "       'Wallyscar Izis'], dtype=object),\n",
       "                                                                            array(['Diesel', 'Essence'], dtype=object),\n",
       "                                                                            array(['Automatique', 'Manuelle'], dtype=object)]),\n",
       "                                                  ['Brand', 'Energie',\n",
       "                                                   'Boite'])])),\n",
       "                ('linearregression', LinearRegression())])"
      ]
     },
     "execution_count": 54,
     "metadata": {},
     "output_type": "execute_result"
    }
   ],
   "source": [
    "pipe.fit(X_train,y_train)"
   ]
  },
  {
   "cell_type": "code",
   "execution_count": 55,
   "id": "8ff304e5",
   "metadata": {},
   "outputs": [],
   "source": [
    "y_pred=pipe.predict(X_test)"
   ]
  },
  {
   "cell_type": "code",
   "execution_count": 59,
   "id": "60de6f63",
   "metadata": {},
   "outputs": [
    {
     "data": {
      "text/plain": [
       "-2.055683833679671"
      ]
     },
     "execution_count": 59,
     "metadata": {},
     "output_type": "execute_result"
    }
   ],
   "source": [
    "r2_score(y_test,y_pred)"
   ]
  },
  {
   "cell_type": "code",
   "execution_count": 61,
   "id": "29eb7fca",
   "metadata": {},
   "outputs": [],
   "source": [
    "scores=[]\n",
    "for i in range(1000):\n",
    "    X_train,X_test,y_train,y_test=train_test_split(X,y,test_size=0.2, random_state=i)\n",
    "    lr=LinearRegression()\n",
    "    pipe=make_pipeline(column_trans,lr)\n",
    "    pipe.fit(X_train,y_train)\n",
    "    y_pred=pipe.predict(X_test)\n",
    "    scores.append(r2_score(y_test,y_pred))"
   ]
  },
  {
   "cell_type": "code",
   "execution_count": 64,
   "id": "e92f6cf4",
   "metadata": {},
   "outputs": [
    {
     "data": {
      "text/plain": [
       "135"
      ]
     },
     "execution_count": 64,
     "metadata": {},
     "output_type": "execute_result"
    }
   ],
   "source": [
    "np.argmax(scores)"
   ]
  },
  {
   "cell_type": "code",
   "execution_count": 66,
   "id": "264a9ce2",
   "metadata": {},
   "outputs": [
    {
     "data": {
      "text/plain": [
       "0.00023722847605234243"
      ]
     },
     "execution_count": 66,
     "metadata": {},
     "output_type": "execute_result"
    }
   ],
   "source": [
    "scores[655]"
   ]
  },
  {
   "cell_type": "code",
   "execution_count": 67,
   "id": "e75433f4",
   "metadata": {},
   "outputs": [
    {
     "data": {
      "text/plain": [
       "0.005793562477802383"
      ]
     },
     "execution_count": 67,
     "metadata": {},
     "output_type": "execute_result"
    }
   ],
   "source": [
    "X_train,X_test,y_train,y_test=train_test_split(X,y,test_size=0.2, random_state=np.argmax(scores))\n",
    "lr=LinearRegression()\n",
    "pipe=make_pipeline(column_trans,lr)\n",
    "pipe.fit(X_train,y_train)\n",
    "y_pred=pipe.predict(X_test)\n",
    "r2_score(y_test,y_pred)"
   ]
  },
  {
   "cell_type": "code",
   "execution_count": 68,
   "id": "66098567",
   "metadata": {},
   "outputs": [],
   "source": [
    "import pickle "
   ]
  },
  {
   "cell_type": "code",
   "execution_count": 69,
   "id": "3f0a9e22",
   "metadata": {},
   "outputs": [],
   "source": [
    "pickle.dump(pipe,open('linearRegressionModel.pkl','wb'))"
   ]
  },
  {
   "cell_type": "code",
   "execution_count": 70,
   "id": "62daf9fe",
   "metadata": {},
   "outputs": [
    {
     "data": {
      "text/plain": [
       "array([30185.9526675])"
      ]
     },
     "execution_count": 70,
     "metadata": {},
     "output_type": "execute_result"
    }
   ],
   "source": [
    "pipe.predict(pd.DataFrame([['Renault Clio 4',2014,145000,'Essence','Manuelle']], columns=['Brand','Year','Kilometrage','Energie','Boite']))"
   ]
  },
  {
   "cell_type": "code",
   "execution_count": 77,
   "id": "d7f96881",
   "metadata": {},
   "outputs": [
    {
     "data": {
      "text/plain": [
       "array([17828.96173397])"
      ]
     },
     "execution_count": 77,
     "metadata": {},
     "output_type": "execute_result"
    }
   ],
   "source": [
    "pipe.predict(pd.DataFrame([['Renault-Clio-classique',2005,180000,'Essence','Manuelle']], columns=['Brand','Year','Kilometrage','Energie','Boite']))"
   ]
  },
  {
   "cell_type": "code",
   "execution_count": null,
   "id": "ba499663",
   "metadata": {},
   "outputs": [],
   "source": []
  }
 ],
 "metadata": {
  "kernelspec": {
   "display_name": "Python 3 (ipykernel)",
   "language": "python",
   "name": "python3"
  },
  "language_info": {
   "codemirror_mode": {
    "name": "ipython",
    "version": 3
   },
   "file_extension": ".py",
   "mimetype": "text/x-python",
   "name": "python",
   "nbconvert_exporter": "python",
   "pygments_lexer": "ipython3",
   "version": "3.9.0"
  }
 },
 "nbformat": 4,
 "nbformat_minor": 5
}
